{
  "nbformat": 4,
  "nbformat_minor": 0,
  "metadata": {
    "kernelspec": {
      "display_name": "Python 3",
      "language": "python",
      "name": "python3"
    },
    "language_info": {
      "codemirror_mode": {
        "name": "ipython",
        "version": 3
      },
      "file_extension": ".py",
      "mimetype": "text/x-python",
      "name": "python",
      "nbconvert_exporter": "python",
      "pygments_lexer": "ipython3",
      "version": "3.7.4"
    },
    "colab": {
      "name": "MachineLearning Assignment_2_Code",
      "provenance": [],
      "collapsed_sections": []
    }
  },
  "cells": [
    {
      "cell_type": "code",
      "metadata": {
        "id": "ZpgDq44lfRlr"
      },
      "source": [
        "### ALL Imports , make sure you install them\n",
        "\n",
        "import numpy as np\n",
        "import pandas as pd\n",
        "import math\n",
        "import seaborn as sns\n",
        "import matplotlib.pyplot as plt\n",
        "%matplotlib inline"
      ],
      "execution_count": 13,
      "outputs": []
    },
    {
      "cell_type": "code",
      "metadata": {
        "id": "rc78rz3SfRl1"
      },
      "source": [
        "from sklearn.preprocessing import LabelEncoder\n",
        "from sklearn.metrics import accuracy_score, classification_report\n",
        "from sklearn.model_selection import KFold, train_test_split\n",
        "from sklearn.preprocessing import MinMaxScaler, StandardScaler\n",
        "from sklearn.model_selection import train_test_split\n",
        "from sklearn.decomposition import PCA\n",
        "### Please download the package below before running it\n",
        "from mpl_toolkits.mplot3d import Axes3D"
      ],
      "execution_count": 14,
      "outputs": []
    },
    {
      "cell_type": "code",
      "metadata": {
        "id": "0CpiQtiKfRl7"
      },
      "source": [
        "df = pd.read_csv('Train_C.csv')"
      ],
      "execution_count": 15,
      "outputs": []
    },
    {
      "cell_type": "markdown",
      "metadata": {
        "id": "DY2oDsBTfhYA"
      },
      "source": [
        "DATA EXPLORATION (NEED NOT BE RUN BY THE EVALUATOR)"
      ]
    },
    {
      "cell_type": "code",
      "metadata": {
        "id": "YmJwmGIRfRmC",
        "outputId": "d6cb5961-6037-4f30-c3a7-0741471b2f07"
      },
      "source": [
        "df.head()"
      ],
      "execution_count": null,
      "outputs": [
        {
          "output_type": "execute_result",
          "data": {
            "text/html": [
              "<div>\n",
              "<style scoped>\n",
              "    .dataframe tbody tr th:only-of-type {\n",
              "        vertical-align: middle;\n",
              "    }\n",
              "\n",
              "    .dataframe tbody tr th {\n",
              "        vertical-align: top;\n",
              "    }\n",
              "\n",
              "    .dataframe thead th {\n",
              "        text-align: right;\n",
              "    }\n",
              "</style>\n",
              "<table border=\"1\" class=\"dataframe\">\n",
              "  <thead>\n",
              "    <tr style=\"text-align: right;\">\n",
              "      <th></th>\n",
              "      <th>id</th>\n",
              "      <th>Gender</th>\n",
              "      <th>Age</th>\n",
              "      <th>Driving_License</th>\n",
              "      <th>Region_Code</th>\n",
              "      <th>Previously_Insured</th>\n",
              "      <th>Vehicle_Age</th>\n",
              "      <th>Vehicle_Damage</th>\n",
              "      <th>Annual_Premium</th>\n",
              "      <th>Policy_Sales_Channel</th>\n",
              "      <th>Vintage</th>\n",
              "      <th>Response</th>\n",
              "    </tr>\n",
              "  </thead>\n",
              "  <tbody>\n",
              "    <tr>\n",
              "      <td>0</td>\n",
              "      <td>1</td>\n",
              "      <td>Male</td>\n",
              "      <td>44</td>\n",
              "      <td>1</td>\n",
              "      <td>28.0</td>\n",
              "      <td>0</td>\n",
              "      <td>&gt; 2 Years</td>\n",
              "      <td>Yes</td>\n",
              "      <td>40454.0</td>\n",
              "      <td>26.0</td>\n",
              "      <td>217</td>\n",
              "      <td>1</td>\n",
              "    </tr>\n",
              "    <tr>\n",
              "      <td>1</td>\n",
              "      <td>2</td>\n",
              "      <td>Male</td>\n",
              "      <td>76</td>\n",
              "      <td>1</td>\n",
              "      <td>3.0</td>\n",
              "      <td>0</td>\n",
              "      <td>1-2 Year</td>\n",
              "      <td>No</td>\n",
              "      <td>33536.0</td>\n",
              "      <td>26.0</td>\n",
              "      <td>183</td>\n",
              "      <td>0</td>\n",
              "    </tr>\n",
              "    <tr>\n",
              "      <td>2</td>\n",
              "      <td>3</td>\n",
              "      <td>Male</td>\n",
              "      <td>47</td>\n",
              "      <td>1</td>\n",
              "      <td>28.0</td>\n",
              "      <td>0</td>\n",
              "      <td>&gt; 2 Years</td>\n",
              "      <td>Yes</td>\n",
              "      <td>38294.0</td>\n",
              "      <td>26.0</td>\n",
              "      <td>27</td>\n",
              "      <td>1</td>\n",
              "    </tr>\n",
              "    <tr>\n",
              "      <td>3</td>\n",
              "      <td>4</td>\n",
              "      <td>Male</td>\n",
              "      <td>21</td>\n",
              "      <td>1</td>\n",
              "      <td>11.0</td>\n",
              "      <td>1</td>\n",
              "      <td>&lt; 1 Year</td>\n",
              "      <td>No</td>\n",
              "      <td>28619.0</td>\n",
              "      <td>152.0</td>\n",
              "      <td>203</td>\n",
              "      <td>0</td>\n",
              "    </tr>\n",
              "    <tr>\n",
              "      <td>4</td>\n",
              "      <td>5</td>\n",
              "      <td>Female</td>\n",
              "      <td>29</td>\n",
              "      <td>1</td>\n",
              "      <td>41.0</td>\n",
              "      <td>1</td>\n",
              "      <td>&lt; 1 Year</td>\n",
              "      <td>No</td>\n",
              "      <td>27496.0</td>\n",
              "      <td>152.0</td>\n",
              "      <td>39</td>\n",
              "      <td>0</td>\n",
              "    </tr>\n",
              "  </tbody>\n",
              "</table>\n",
              "</div>"
            ],
            "text/plain": [
              "   id  Gender  Age  Driving_License  Region_Code  Previously_Insured  \\\n",
              "0   1    Male   44                1         28.0                   0   \n",
              "1   2    Male   76                1          3.0                   0   \n",
              "2   3    Male   47                1         28.0                   0   \n",
              "3   4    Male   21                1         11.0                   1   \n",
              "4   5  Female   29                1         41.0                   1   \n",
              "\n",
              "  Vehicle_Age Vehicle_Damage  Annual_Premium  Policy_Sales_Channel  Vintage  \\\n",
              "0   > 2 Years            Yes         40454.0                  26.0      217   \n",
              "1    1-2 Year             No         33536.0                  26.0      183   \n",
              "2   > 2 Years            Yes         38294.0                  26.0       27   \n",
              "3    < 1 Year             No         28619.0                 152.0      203   \n",
              "4    < 1 Year             No         27496.0                 152.0       39   \n",
              "\n",
              "   Response  \n",
              "0         1  \n",
              "1         0  \n",
              "2         1  \n",
              "3         0  \n",
              "4         0  "
            ]
          },
          "metadata": {
            "tags": []
          },
          "execution_count": 4
        }
      ]
    },
    {
      "cell_type": "code",
      "metadata": {
        "id": "1zVRzWKBfRmI",
        "outputId": "9cece8bf-dbbc-4715-a8ab-ac5ec6e0582c"
      },
      "source": [
        "df.columns # Age = 66, Region code  = 53 Policy_sales_channel = 155"
      ],
      "execution_count": null,
      "outputs": [
        {
          "output_type": "execute_result",
          "data": {
            "text/plain": [
              "Index(['id', 'Gender', 'Age', 'Driving_License', 'Region_Code',\n",
              "       'Previously_Insured', 'Vehicle_Age', 'Vehicle_Damage', 'Annual_Premium',\n",
              "       'Policy_Sales_Channel', 'Vintage', 'Response'],\n",
              "      dtype='object')"
            ]
          },
          "metadata": {
            "tags": []
          },
          "execution_count": 5
        }
      ]
    },
    {
      "cell_type": "code",
      "metadata": {
        "id": "v-1tfbWifRmN",
        "outputId": "4fb71f76-b806-4db4-c452-541477654280",
        "colab": {
          "base_uri": "https://localhost:8080/",
          "height": 352
        }
      },
      "source": [
        "sns.distplot(df['Policy_Sales_Channel']*1)"
      ],
      "execution_count": 12,
      "outputs": [
        {
          "output_type": "stream",
          "text": [
            "/usr/local/lib/python3.6/dist-packages/seaborn/distributions.py:2551: FutureWarning: `distplot` is a deprecated function and will be removed in a future version. Please adapt your code to use either `displot` (a figure-level function with similar flexibility) or `histplot` (an axes-level function for histograms).\n",
            "  warnings.warn(msg, FutureWarning)\n"
          ],
          "name": "stderr"
        },
        {
          "output_type": "execute_result",
          "data": {
            "text/plain": [
              "<matplotlib.axes._subplots.AxesSubplot at 0x7fab436898d0>"
            ]
          },
          "metadata": {
            "tags": []
          },
          "execution_count": 12
        },
        {
          "output_type": "display_data",
          "data": {
            "image/png": "[encoded data removed]",
            "text/plain": [
              "<Figure size 432x288 with 1 Axes>"
            ]
          },
          "metadata": {
            "tags": [],
            "needs_background": "light"
          }
        }
      ]
    },
    {
      "cell_type": "code",
      "metadata": {
        "id": "BF0PlrJ3fRmQ",
        "outputId": "5d49c0a7-aaa9-42cb-adde-7770f30d304b"
      },
      "source": [
        "sns.distplot(df['Annual_Premium'])"
      ],
      "execution_count": null,
      "outputs": [
        {
          "output_type": "execute_result",
          "data": {
            "text/plain": [
              "<matplotlib.axes._subplots.AxesSubplot at 0x149ad126648>"
            ]
          },
          "metadata": {
            "tags": []
          },
          "execution_count": 168
        },
        {
          "output_type": "display_data",
          "data": {
            "image/png": "[encoded data removed]",
            "text/plain": [
              "<Figure size 432x288 with 1 Axes>"
            ]
          },
          "metadata": {
            "tags": [],
            "needs_background": "light"
          }
        }
      ]
    },
    {
      "cell_type": "code",
      "metadata": {
        "id": "EYY9yhpifRmT"
      },
      "source": [
        ""
      ],
      "execution_count": null,
      "outputs": []
    },
    {
      "cell_type": "markdown",
      "metadata": {
        "id": "ookBHVXefo1S"
      },
      "source": [
        "PLEASE START RUNNING THE CODES BELOW"
      ]
    },
    {
      "cell_type": "code",
      "metadata": {
        "id": "LDp2KX7DfRmX",
        "outputId": "ad7a6208-4636-42d8-f587-cb94171bb047",
        "colab": {
          "base_uri": "https://localhost:8080/"
        }
      },
      "source": [
        "################ ASSIGNMENT ###################################\n",
        "###  1a)\n",
        "print(df.isna().sum())\n",
        "print('\\n')\n",
        "print(df.isnull().sum())\n",
        "\n",
        "### Ans: No Missing ot Null values in the dataset"
      ],
      "execution_count": 16,
      "outputs": [
        {
          "output_type": "stream",
          "text": [
            "id                      0\n",
            "Gender                  0\n",
            "Age                     0\n",
            "Driving_License         0\n",
            "Region_Code             0\n",
            "Previously_Insured      0\n",
            "Vehicle_Age             0\n",
            "Vehicle_Damage          0\n",
            "Annual_Premium          0\n",
            "Policy_Sales_Channel    0\n",
            "Vintage                 0\n",
            "Response                0\n",
            "dtype: int64\n",
            "\n",
            "\n",
            "id                      0\n",
            "Gender                  0\n",
            "Age                     0\n",
            "Driving_License         0\n",
            "Region_Code             0\n",
            "Previously_Insured      0\n",
            "Vehicle_Age             0\n",
            "Vehicle_Damage          0\n",
            "Annual_Premium          0\n",
            "Policy_Sales_Channel    0\n",
            "Vintage                 0\n",
            "Response                0\n",
            "dtype: int64\n"
          ],
          "name": "stdout"
        }
      ]
    },
    {
      "cell_type": "code",
      "metadata": {
        "id": "MvJR9M5PfRmc"
      },
      "source": [
        "## This converts the complete dataset into a list of dictionaries\n",
        "## Each dictionary has all the keys except 'id'\n",
        "dic = (df.drop(['id'], axis = 1).T.to_dict()).values()\n",
        "list = []\n",
        "for example in dic:\n",
        "    list.append(example)"
      ],
      "execution_count": 17,
      "outputs": []
    },
    {
      "cell_type": "code",
      "metadata": {
        "id": "dC_wAFdRfRme"
      },
      "source": [
        "########### RANDOMLY DIVIDING THE DATA TO TRAIN TEST SET##########\n",
        "\n",
        "y = df['Response'].values\n",
        "X_train, X_test, y_train, y_test = train_test_split(list,y, test_size = 0.2, random_state = 101)"
      ],
      "execution_count": 18,
      "outputs": []
    },
    {
      "cell_type": "code",
      "metadata": {
        "id": "1xxpPWJ5fRmg"
      },
      "source": [
        "##### converting the data into a dataframe, which makes it easier to process\n",
        "df_train = pd.DataFrame(X_train)\n",
        "df_test = pd.DataFrame(X_test)"
      ],
      "execution_count": 19,
      "outputs": []
    },
    {
      "cell_type": "code",
      "metadata": {
        "id": "5dMevODzfRmj"
      },
      "source": [
        "def encode(df_train, df_test):\n",
        "\n",
        "    \"\"\"\n",
        "      This function Label Encodes the features 'Vehicle_Age','Gender', 'Vehicle_Damage'\n",
        "\n",
        "      params:\n",
        "          df_train (dataframe):\n",
        "          df_test (dataframe)\n",
        "      returns: \n",
        "          the encoded dataframes (df_train, df_test)\n",
        "\n",
        "    \"\"\"\n",
        "    \n",
        "    encoder = LabelEncoder()\n",
        "    encoder.fit(df_train['Vehicle_Age'])\n",
        "    df_train['Vehicle_Age'] = encoder.transform(df_train['Vehicle_Age'])\n",
        "    df_test['Vehicle_Age'] = encoder.transform(df_test['Vehicle_Age'])\n",
        "    \n",
        "    encoder = LabelEncoder()\n",
        "    df_train['Vehicle_Damage'] = encoder.fit_transform(df_train['Vehicle_Damage'])\n",
        "    df_test['Vehicle_Damage'] = encoder.transform(df_test['Vehicle_Damage'])\n",
        "    \n",
        "    encoder = LabelEncoder()\n",
        "    df_train['Gender'] = encoder.fit_transform(df_train['Gender'])\n",
        "    df_test['Gender'] = encoder.transform(df_test['Gender'])\n",
        "    \n",
        "    return df_train, df_test\n",
        "    "
      ],
      "execution_count": 20,
      "outputs": []
    },
    {
      "cell_type": "code",
      "metadata": {
        "id": "Uz1jq2s6fRml"
      },
      "source": [
        "######### ASSIGNMENT #########################\n",
        "##### Q 1b)     ### Run the cell below\n",
        "df_train, df_test = encode(df_train, df_test)"
      ],
      "execution_count": 21,
      "outputs": []
    },
    {
      "cell_type": "code",
      "metadata": {
        "id": "esJtLPwNfRmo"
      },
      "source": [
        "def normalise(df_train, df_test):\n",
        "\n",
        "    \"\"\"\n",
        "      This function like encode() takes in the test and train dataframe\n",
        "      and it normalises it\n",
        "\n",
        "    \"\"\"\n",
        "    \n",
        "    scaler = StandardScaler()\n",
        "    df_train['Age'] = scaler.fit_transform(np.reshape((df_train['Age'].values),(len(df_train), 1)))\n",
        "    df_test['Age'] = scaler.transform(np.reshape((df_test['Age'].values),(len(df_test), 1)))\n",
        "    \n",
        "    scaler = StandardScaler()\n",
        "    df_train['Annual_Premium'] = scaler.fit_transform(np.reshape((df_train['Annual_Premium'].values),(len(df_train), 1)))\n",
        "    df_test['Annual_Premium'] = scaler.transform(np.reshape((df_test['Annual_Premium'].values),(len(df_test), 1)))\n",
        "                                                 \n",
        "    scaler = MinMaxScaler()\n",
        "    df_train['Region_Code'] = scaler.fit_transform(np.reshape((df_train['Region_Code'].values),(len(df_train), 1)))\n",
        "    df_test['Region_Code'] = scaler.transform(np.reshape((df_test['Region_Code'].values),(len(df_test), 1)))    \n",
        "    \n",
        "    scaler = StandardScaler()\n",
        "    df_train['Vintage'] = scaler.fit_transform(np.reshape((df_train['Vintage'].values),(len(df_train), 1)))\n",
        "    df_test['Vintage'] = scaler.transform(np.reshape((df_test['Vintage'].values),(len(df_test), 1)))\n",
        "    \n",
        "    return df_train, df_test"
      ],
      "execution_count": 22,
      "outputs": []
    },
    {
      "cell_type": "code",
      "metadata": {
        "id": "vperr8KRfRmq"
      },
      "source": [
        "## Run the cell below to normalise it\n",
        "df_train, df_test = normalise(df_train, df_test)"
      ],
      "execution_count": 23,
      "outputs": []
    },
    {
      "cell_type": "code",
      "metadata": {
        "id": "Y8gCMVTXfRmu"
      },
      "source": [
        "def Discretising_Policy_Channels(x):\n",
        "\n",
        "    \"\"\"\n",
        "      This function takes a value and returns a corresponding class value based on its value\n",
        "      Used exclusively for discretising \"Policy_Sales_Channel\"\n",
        "\n",
        "    \"\"\"\n",
        "      \n",
        "    if x <=75:\n",
        "        return 0\n",
        "    elif x>75 and x<=149:\n",
        "        return 1\n",
        "    elif x> 149:\n",
        "        return 2\n",
        "    "
      ],
      "execution_count": 26,
      "outputs": []
    },
    {
      "cell_type": "code",
      "metadata": {
        "id": "7uws2DcnfRms"
      },
      "source": [
        "###### We realises after plotting the distribution of \"Policy_Sales_Channel\" that\n",
        "## it doesnt look like a Gaussian, hence we categorized this feature into 3 bins\n",
        "### Run cells below, this will treat the features as discrete\n",
        "\n",
        "\n",
        "df_train['Policy_Sales_Channel'] = df_train['Policy_Sales_Channel'].apply(lambda x: Discretising_Policy_Channels(x))\n",
        "df_test['Policy_Sales_Channel'] = df_test['Policy_Sales_Channel'].apply(lambda x: Discretising_Policy_Channels(x))"
      ],
      "execution_count": 27,
      "outputs": []
    },
    {
      "cell_type": "code",
      "metadata": {
        "id": "uA2Ge4KffRmw"
      },
      "source": [
        "\n",
        "features_list = df.drop(['Response','id'], axis = 1).columns ## The list of all features"
      ],
      "execution_count": 28,
      "outputs": []
    },
    {
      "cell_type": "code",
      "metadata": {
        "id": "UrtTiUpofRmz",
        "outputId": "42be04c6-1d70-4b80-9d25-61ce26c8aed5",
        "colab": {
          "base_uri": "https://localhost:8080/"
        }
      },
      "source": [
        "## Discrete Features are : [0,2,4,5,6,8] total 10 features\n",
        "features_list"
      ],
      "execution_count": 29,
      "outputs": [
        {
          "output_type": "execute_result",
          "data": {
            "text/plain": [
              "Index(['Gender', 'Age', 'Driving_License', 'Region_Code', 'Previously_Insured',\n",
              "       'Vehicle_Age', 'Vehicle_Damage', 'Annual_Premium',\n",
              "       'Policy_Sales_Channel', 'Vintage'],\n",
              "      dtype='object')"
            ]
          },
          "metadata": {
            "tags": []
          },
          "execution_count": 29
        }
      ]
    },
    {
      "cell_type": "code",
      "metadata": {
        "id": "EKh3sBB6fRm4"
      },
      "source": [
        "\n",
        "### This is a dictionary were we maintain if a features for our computation is considered\n",
        "### a Continuous variable or a dicrete variable. 1 - Discrete, 0 - Continuous\n",
        "\n",
        "feature_type = {}\n",
        "feature_type['Gender'] = 1\n",
        "feature_type['Age'] = 0\n",
        "feature_type['Driving_License'] = 1\n",
        "feature_type['Region_Code'] = 0\n",
        "feature_type['Previously_Insured'] = 1\n",
        "feature_type['Vehicle_Age'] = 1\n",
        "feature_type['Vehicle_Damage'] = 1\n",
        "feature_type['Annual_Premium'] = 0\n",
        "feature_type['Policy_Sales_Channel'] = 1\n",
        "feature_type['Vintage'] = 0"
      ],
      "execution_count": 30,
      "outputs": []
    },
    {
      "cell_type": "code",
      "metadata": {
        "id": "fuuQGDrOfRm7"
      },
      "source": [
        "### Running the cells below will covert the df_train, df_test which are encoded and normalised\n",
        "### to a list of dictionaries that can be used for training/testing\n",
        "\n",
        "dic = (df_train).T.to_dict().values()\n",
        "X_train = []\n",
        "for example in dic:\n",
        "    X_train.append(example)\n",
        "\n",
        "\n",
        "dic = (df_test).T.to_dict().values()\n",
        "X_test = []\n",
        "for example in dic:\n",
        "    X_test.append(example)"
      ],
      "execution_count": 31,
      "outputs": []
    },
    {
      "cell_type": "code",
      "metadata": {
        "id": "GxEMziIEfRnH"
      },
      "source": [
        "def separate_classes(df, feature):\n",
        "\n",
        "    \"\"\"\n",
        "      This function takes a dataframe and a particular feature. It separates the \n",
        "      data in dataframe[features] into 2 lists containing values correponding to \n",
        "      each target class\n",
        "\n",
        "      params:\n",
        "        df:\n",
        "          data as dataframe\n",
        "        features:\n",
        "          the feature based whose value needs to be split\n",
        "\n",
        "      returns: \n",
        "        class0_list (list):\n",
        "          The feature values corresponding to class 0\n",
        "        class1_list (list):\n",
        "          The feature values corresponding to class 0\n",
        "    \"\"\"\n",
        "    \n",
        "    class1_list = []\n",
        "    class0_list = []\n",
        "    all_elements = df[feature].values\n",
        "    class1_index = (df['Response'] == 1).values\n",
        "    class0_index = (df['Response'] == 0).values\n",
        "    \n",
        "    for i in range(len(class1_index)):\n",
        "        if(class1_index[i] == 1):\n",
        "            class1_list.append(all_elements[i])\n",
        "        elif(class1_index[i] == 0):\n",
        "            class0_list.append(all_elements[i])\n",
        "            \n",
        "    return class0_list, class1_list"
      ],
      "execution_count": 32,
      "outputs": []
    },
    {
      "cell_type": "code",
      "metadata": {
        "id": "67vIGCWCfRnK"
      },
      "source": [
        "def calculate_mean(s):\n",
        "  \n",
        "    \"\"\"\n",
        "      Calculates mean of a sample distribution that is passes as an array\n",
        "    \"\"\"\n",
        "    \n",
        "    return sum(s) / float(len(s))"
      ],
      "execution_count": 33,
      "outputs": []
    },
    {
      "cell_type": "code",
      "metadata": {
        "id": "KB6mwyDxfRnM"
      },
      "source": [
        "def calculate_stdev(s):\n",
        "\n",
        "    \"\"\"\n",
        "      Calculates mean of a sample distribution that is passes as an array\n",
        "    \"\"\"\n",
        "    \n",
        "    if(len(s)>1):\n",
        "        avg = calculate_mean(s) \n",
        "        variance = sum([pow(x - avg, 2) for x in s]) / float(len(s) - 1)\n",
        "        \n",
        "        return math.sqrt(variance)"
      ],
      "execution_count": 34,
      "outputs": []
    },
    {
      "cell_type": "code",
      "metadata": {
        "id": "ckMxjVe0fRnR"
      },
      "source": [
        "def calculate_Gaussian_Probability(x, mean, stdev):\n",
        "\n",
        "    \"\"\"\n",
        "      This function computes the Gaussian Probability given the mean and stdev\n",
        "\n",
        "      params: \n",
        "        x, mean, stdev: All are single valued points\n",
        "      \n",
        "      returns:\n",
        "        Gaussian probability based on the Formula\n",
        "\n",
        "    \"\"\"\n",
        "\n",
        "    expo = math.exp(-(math.pow(x - mean, 2) / (2 * math.pow(stdev, 2)))) \n",
        "    \n",
        "    return (1 / (math.sqrt(2 * math.pi) * stdev)) * expo"
      ],
      "execution_count": 35,
      "outputs": []
    },
    {
      "cell_type": "code",
      "metadata": {
        "id": "pyLB6dOAfRnP"
      },
      "source": [
        "def compute_probabilites(train, features_list, feature_type,m):\n",
        "\n",
        "    \"\"\"\n",
        "    This function is the heart of the Naive Bayes Classifier\n",
        "    It takes as input the training set, the Feature_list and the Feature type computed above\n",
        "    It also takes in the  m value - which is used as the m estimator to handle zero \n",
        "    discrete probability\n",
        "\n",
        "    params:\n",
        "      train (list):\n",
        "        contains training data as a list of dictionaries\n",
        "      features_list (list):\n",
        "        contains the features to be used\n",
        "      feature_type (list):\n",
        "        contains wheteher to conseider each feature as discrete or continuous\n",
        "\n",
        "    returns:\n",
        "       (probabilities_class0, probabilities_class1) (lists):\n",
        "            These lists contain the probabilities of getting discrete values given the class\n",
        "       (mean_std_class0, mean_std_class1) (lists):\n",
        "            These lists contain the mean and stdev of each continuous variable given the class.\n",
        "            This is used to compute the Gaussian Probability\n",
        "\n",
        "    \"\"\"\n",
        "\n",
        "    ## We need to convert the incoming list of dictionaries to a pandas datframe in order to get the\n",
        "    ## probabilities computation\n",
        "\n",
        "    df_train = pd.DataFrame(train.tolist())\n",
        "    \n",
        "    probabilities_class1 = {} ## These dictionaries store the discrete probabilities\n",
        "    probabilities_class0 = {}\n",
        "    probabilities_class1[\"class_1\"] = df_train['Response'].sum()/len(df_train['Response'])\n",
        "    probabilities_class0['class_0'] = 1 - probabilities_class1['class_1']\n",
        "\n",
        "    class1_index = (df_train['Response'] == 1).values\n",
        "    class0_index = (df_train['Response'] == 0).values\n",
        "\n",
        "    mean_std_class1 = {} ### These dictionaries store the continous variable mean and stdev\n",
        "    mean_std_class0 = {}\n",
        "\n",
        "    for feature in features_list:\n",
        "        if(feature_type[feature] == 1): ## It is a discrete variable\n",
        "\n",
        "            for i in range(df_train[feature].nunique()):\n",
        "                probabilities_class1[feature + '=' + str(i)] = ((class1_index*(df_train[feature] == i).values).sum() + m/df_train[feature].nunique())/(class1_index.sum() + m)\n",
        "\n",
        "                probabilities_class0[feature + '=' + str(i)] = ((class0_index*(df_train[feature] == i).values).sum() + m/df_train[feature].nunique())/(class0_index.sum() + m)\n",
        "\n",
        "\n",
        "        elif(feature_type[feature] == 0): ## It is a continuous variable\n",
        "            class_0, class_1 = separate_classes(df_train, feature)\n",
        "            mean_std_class1[feature] = (calculate_mean(class_1), calculate_stdev(class_1))\n",
        "            mean_std_class0[feature] = (calculate_mean(class_0), calculate_stdev(class_0))\n",
        "            \n",
        "        \n",
        "    return (probabilities_class0, probabilities_class1, mean_std_class0, mean_std_class1)\n",
        "\n",
        "        "
      ],
      "execution_count": 36,
      "outputs": []
    },
    {
      "cell_type": "code",
      "metadata": {
        "id": "Lr8cP6dlfRnU"
      },
      "source": [
        "\n",
        "def measure_accuracy(predictions, target):\n",
        "\n",
        "    \"\"\"\n",
        "      This outputs the accuracy for a list of predictions given a list of corresponding target variables\n",
        "\n",
        "      params:\n",
        "        predictions (list):\n",
        "          a list of predictions by the decision tree\n",
        "\n",
        "        target (list):\n",
        "          a list of true targets for the same data points used to predict with the DT\n",
        "\n",
        "    \"\"\"\n",
        "    \n",
        "    return accuracy_score(target, predictions)"
      ],
      "execution_count": 37,
      "outputs": []
    },
    {
      "cell_type": "code",
      "metadata": {
        "id": "3xZq9AcgfRnW"
      },
      "source": [
        "def Kfold_crossvalidation(train, features_list, feature_type,m):\n",
        "\n",
        "    \"\"\"\n",
        "      This function performs KFold Cross validation to measure the mean accuracy by using 9/10 batches to train and 1 batch to test.\n",
        "\n",
        "      params:\n",
        "        train (list):\n",
        "          training set\n",
        "        max_depth (int):\n",
        "          user chosen value\n",
        "\n",
        "        returns:\n",
        "          The array of errors: i.e. 10 different error for each step of 10Fold CV\n",
        "\n",
        "    \"\"\"\n",
        "    \n",
        "    Kfold_CV = KFold(n_splits = 5, random_state=12)\n",
        "    accuracy_list = []\n",
        "    \n",
        "    \n",
        "    for train_index, validation_index in Kfold_CV.split(train):\n",
        "        \n",
        "        predictions_list = []\n",
        "        target_list = []\n",
        "        \n",
        "        probabilities_class0, probabilities_class1, mean_std_class0, mean_std_class1 = compute_probabilites(np.array(train)[train_index], features_list, feature_type,m)\n",
        "        \n",
        "        (predictions_list, target_list) = make_predictions(np.array(train)[validation_index], probabilities_class0,probabilities_class1,\n",
        "                                                           mean_std_class0, mean_std_class1, features_list, feature_type)\n",
        "        \n",
        "        accuracy_list.append(measure_accuracy(predictions_list, target_list))\n",
        "        \n",
        "    return np.array(accuracy_list)\n",
        "            "
      ],
      "execution_count": 38,
      "outputs": []
    },
    {
      "cell_type": "code",
      "metadata": {
        "id": "gBNUhavTfRnY"
      },
      "source": [
        "def make_predictions(s, probabilities_class0,probabilities_class1, mean_std_class0, mean_std_class1, features_list, feature_type):\n",
        "    \n",
        "    \"\"\" \n",
        "    This function takes in all the pre computed probabilities and the samples s.\n",
        "    With these values it makes a binary prediction (1 or 0) based on the Bayes Theorem\n",
        "    used in Naive Nayes Classifier.\n",
        "\n",
        "    returns:\n",
        "      The prediction list and the target list\n",
        "\n",
        "    \"\"\"\n",
        "    predictions_list = []\n",
        "    target_list = []\n",
        "\n",
        "    for sample in s:\n",
        "            \n",
        "        prob_1 = probabilities_class1['class_1']\n",
        "        prob_0 = probabilities_class0['class_0']\n",
        "            \n",
        "        for key in features_list:\n",
        "            if(feature_type[key]):\n",
        "                    prob_1 *= probabilities_class1[key + '=' + str(int(sample[key]))]\n",
        "                    prob_0 *= probabilities_class0[key + '=' +  str(int(sample[key])) ]\n",
        "            else:\n",
        "                    prob_1 *= calculate_Gaussian_Probability(sample[key],mean_std_class1[key][0],  mean_std_class1[key][1])\n",
        "                    prob_0 *= calculate_Gaussian_Probability(sample[key],mean_std_class0[key][0],  mean_std_class0[key][1])\n",
        "        predictions_list.append(1 if prob_1 > prob_0 else 0)\n",
        "            \n",
        "        target_list.append(sample[\"Response\"])\n",
        "        \n",
        "    return (predictions_list, target_list)"
      ],
      "execution_count": 39,
      "outputs": []
    },
    {
      "cell_type": "code",
      "metadata": {
        "id": "1EXBr80mfRnd"
      },
      "source": [
        "def measure_test_accuracy(X_train, X_test,features_list, feature_type,m):\n",
        "\n",
        "    \n",
        "    \"\"\"\n",
        "      This takes in all the training set, test set, features to be considered and the \n",
        "      types of each feature and the m value(m estimator) to measure the test accuracy.\n",
        "      This returns the prediction list and the target list\n",
        "\n",
        "      returns:\n",
        "        accuracy after computing probabilities on train set and making predictions on the test set.\n",
        "\n",
        "    \"\"\"\n",
        "    \n",
        "    \n",
        "    probabilities_class0,probabilities_class1, mean_std_class0, mean_std_class1 = compute_probabilites(np.array(X_train), features_list, feature_type,m)\n",
        "    \n",
        "    (predictions_list, target_list) = make_predictions(np.array(X_test), probabilities_class0,probabilities_class1,\n",
        "                                                           mean_std_class0, mean_std_class1, features_list, feature_type)\n",
        "    \n",
        "    return measure_accuracy(predictions_list, target_list)"
      ],
      "execution_count": 40,
      "outputs": []
    },
    {
      "cell_type": "code",
      "metadata": {
        "id": "wsd7U770-76i",
        "outputId": "7dea2047-89eb-4724-9deb-a1a2ec834c80",
        "colab": {
          "base_uri": "https://localhost:8080/"
        }
      },
      "source": [
        "######################## ASSIGNMENT SOLUTIONS #######################################\n",
        "## 1c) Run cell\n",
        "\n",
        "acc = Kfold_crossvalidation(X_train, features_list, feature_type,2)\n",
        "print(\"The KFOld CV Accuracy is:\", np.mean(acc))\n",
        "print('\\n')\n",
        "print(\" The Test Accuracy is: \", measure_test_accuracy(X_train, X_test, features_list, feature_type,2))"
      ],
      "execution_count": 41,
      "outputs": [
        {
          "output_type": "stream",
          "text": [
            "/usr/local/lib/python3.6/dist-packages/sklearn/model_selection/_split.py:296: FutureWarning: Setting a random_state has no effect since shuffle is False. This will raise an error in 0.24. You should leave random_state to its default (None), or set shuffle=True.\n",
            "  FutureWarning\n"
          ],
          "name": "stderr"
        },
        {
          "output_type": "stream",
          "text": [
            "The KFOld CV Accuracy is: 0.7506617264187546\n",
            "\n",
            "\n",
            " The Test Accuracy is:  0.7518301802629163\n"
          ],
          "name": "stdout"
        }
      ]
    },
    {
      "cell_type": "code",
      "metadata": {
        "id": "pyw-9DYefRnf"
      },
      "source": [
        "# The following cells vary the m value in m estimator as an hyperparameter\n",
        "# The m value that gives the best Validation accuracy is chosem\n",
        "\n",
        "accuracy_list = []\n",
        "for i in [2, 100, 1000, 10000,20000, 30000]:\n",
        "    accuracy_list.append(np.mean(Kfold_crossvalidation(X_train, features_list, feature_type,i)))\n",
        "\n",
        "## m = 30000 gives the best KFold accuracy"
      ],
      "execution_count": null,
      "outputs": []
    },
    {
      "cell_type": "code",
      "metadata": {
        "id": "rZBfoZ8GfRnh",
        "outputId": "9f51c7d0-7fdd-4772-c272-9d605fc6ee96"
      },
      "source": [
        "## plotting variation of KFolf Accuracy with m value\n",
        "plt.figure(figsize = (12,8))\n",
        "sns.lineplot(x = [2, 100, 1000, 10000,20000, 30000], y= accuracy_list)\n",
        "plt.xlabel(\"M value\", fontsize = 20)\n",
        "plt.ylabel(\"Accuracy\", fontsize = 20)\n",
        "plt.title(\"Variation of KFold Accuracy with m value\", fontsize = 30)"
      ],
      "execution_count": null,
      "outputs": [
        {
          "output_type": "execute_result",
          "data": {
            "text/plain": [
              "Text(0.5, 1.0, 'Variation of KFold Accuracy with m value')"
            ]
          },
          "metadata": {
            "tags": []
          },
          "execution_count": 166
        },
        {
          "output_type": "display_data",
          "data": {
            "image/png": "[encoded data removed]",
            "text/plain": [
              "<Figure size 864x576 with 1 Axes>"
            ]
          },
          "metadata": {
            "tags": [],
            "needs_background": "light"
          }
        }
      ]
    },
    {
      "cell_type": "code",
      "metadata": {
        "id": "2Y_Znx42A4qx",
        "outputId": "08ab052f-e517-4962-d027-0d9f6613299b",
        "colab": {
          "base_uri": "https://localhost:8080/"
        }
      },
      "source": [
        "for i in [2, 100, 1000, 10000,20000, 30000]:\n",
        "  print(\" The Test Accuracy is: \", measure_test_accuracy(X_train, X_test, features_list, feature_type,i))"
      ],
      "execution_count": 44,
      "outputs": [
        {
          "output_type": "stream",
          "text": [
            " The Test Accuracy is:  0.7518301802629163\n",
            " The Test Accuracy is:  0.7513053973918291\n",
            " The Test Accuracy is:  0.752486158851775\n",
            " The Test Accuracy is:  0.7741072131405631\n",
            " The Test Accuracy is:  0.819710844638031\n",
            " The Test Accuracy is:  0.8555141560179476\n"
          ],
          "name": "stdout"
        }
      ]
    },
    {
      "cell_type": "code",
      "metadata": {
        "id": "Zzd9j8ry07BZ"
      },
      "source": [
        ""
      ],
      "execution_count": null,
      "outputs": []
    },
    {
      "cell_type": "code",
      "metadata": {
        "id": "1COvxQN007O2"
      },
      "source": [
        ""
      ],
      "execution_count": null,
      "outputs": []
    },
    {
      "cell_type": "markdown",
      "metadata": {
        "id": "fSfsDDGcqiIf"
      },
      "source": [
        "################## ASSIGNMENT PART 3 *##################"
      ]
    },
    {
      "cell_type": "code",
      "metadata": {
        "id": "X9gGrI1I0_N4"
      },
      "source": [
        "##### Feature selection and Outlier Deletion"
      ],
      "execution_count": null,
      "outputs": []
    },
    {
      "cell_type": "code",
      "metadata": {
        "id": "flCx6XJefRoV"
      },
      "source": [
        "def delete_outliers(features_list, train):\n",
        "\n",
        "    \"\"\"\n",
        "      This function takes a features_list and the training set.\n",
        "      It then deletes the outlier points and returns the new training array\n",
        "    \"\"\"\n",
        "    \n",
        "    new_train = []\n",
        "    log_dict = {}   ### Keeps note of mean and standard deviations of different features\n",
        "    temp_df = pd.DataFrame(train)\n",
        "    for feature in features_list:\n",
        "        samples = temp_df[feature].values\n",
        "        log_dict[feature] = (calculate_mean(samples), calculate_stdev(samples))\n",
        "        \n",
        "    #return (log_dict)\n",
        "        \n",
        "    for sample in train:\n",
        "        outliers = 0\n",
        "        for feature in features_list:\n",
        "            \n",
        "            if((sample[feature] > log_dict[feature][0] + 3*log_dict[feature][1]) \n",
        "               | (sample[feature] < log_dict[feature][0] - 3*log_dict[feature][1])):\n",
        "                \n",
        "                outliers +=  1\n",
        "                \n",
        "        if outliers < 2:\n",
        "            new_train.append(sample)\n",
        "            \n",
        "    return new_train\n",
        "             \n",
        "        "
      ],
      "execution_count": 57,
      "outputs": []
    },
    {
      "cell_type": "code",
      "metadata": {
        "id": "fVyJcCxw2JK6"
      },
      "source": [
        "######### ASSIGNMENT SOLUTIONS ####################################################\n",
        "### 3a) RUN  cell\n",
        "\n",
        "new_train = delete_outliers(features_list, X_train)\n",
        "\n",
        "## the new_train contains the training examples after deletion of outliers\n",
        "\n"
      ],
      "execution_count": 58,
      "outputs": []
    },
    {
      "cell_type": "code",
      "metadata": {
        "id": "e85-zs0HfRoE"
      },
      "source": [
        "def backward_feature_selection(train, f,feature_type, baseline):\n",
        "\n",
        "    \"\"\"\n",
        "      This function performs backward feature selection based on train and feature list that is passed.\n",
        "      This fucntion recursively deletes features until no more deletion seems feasible\n",
        "\n",
        "      returns:\n",
        "        f (list):\n",
        "          The selected feature list\n",
        "\n",
        "    \"\"\"\n",
        "    temp_df = pd.DataFrame(train)\n",
        "    \n",
        "    baseline = np.mean(baseline) ### This is the baseline accuracy. At the start it is the validation acc\n",
        "                                ### As we keep deleting features, the accuracy keeps getting modified\n",
        "    \n",
        "    f = np.array(f).tolist()\n",
        "    \n",
        "    while(1):  ### exits only when deletion process doesnt increase the baseline accuracy\n",
        "        \n",
        "        accuracy_diary = {}\n",
        "        if len(f) == 0:\n",
        "            return \"error\"\n",
        "        \n",
        "        for feature in f:\n",
        "            \n",
        "            print(feature)\n",
        "            \n",
        "            acc = []\n",
        "            data = (temp_df.drop([feature], axis = 1).T.to_dict()).values()\n",
        "            l = []\n",
        "            for example in data:\n",
        "                l.append(example)\n",
        "            ## l is the list of dictionaries containing the datapoints\n",
        "            temp_f = [t for t in f if t != feature]\n",
        "            print(temp_f)\n",
        "            acc = Kfold_crossvalidation(l, temp_f ,feature_type,2)\n",
        "            \n",
        "            accuracy_diary[feature] = np.mean(acc)\n",
        "            \n",
        "        max_acc = max(accuracy_diary.values())\n",
        "        max_key = max(accuracy_diary, key = accuracy_diary.get)\n",
        "        print(max_acc, max_key)\n",
        "        print('\\n')\n",
        "        \n",
        "        if max_acc > baseline:\n",
        "            baseline = max_acc\n",
        "            f.remove(max_key)\n",
        "        elif max_acc <= baseline:\n",
        "            return f\n",
        "    "
      ],
      "execution_count": null,
      "outputs": []
    },
    {
      "cell_type": "code",
      "metadata": {
        "id": "tESLsRe8fRoG",
        "outputId": "806edace-c06b-486b-b0a0-6ee1ebc1f058"
      },
      "source": [
        " ############# ASSIGNMENT SOLUTIONS #####################################\n",
        "####### 3b) Run cell \n",
        "\n",
        "selected_features = backward_feature_selection(X_train, features_list,feature_type, acc)\n",
        "\n",
        "## Selected features contains the Final set of features selected\n"
      ],
      "execution_count": null,
      "outputs": [
        {
          "output_type": "stream",
          "text": [
            "Gender\n",
            "['Age', 'Driving_License', 'Region_Code', 'Previously_Insured', 'Vehicle_Age', 'Vehicle_Damage', 'Annual_Premium', 'Policy_Sales_Channel', 'Vintage']\n",
            "Age\n",
            "['Gender', 'Driving_License', 'Region_Code', 'Previously_Insured', 'Vehicle_Age', 'Vehicle_Damage', 'Annual_Premium', 'Policy_Sales_Channel', 'Vintage']\n",
            "Driving_License\n",
            "['Gender', 'Age', 'Region_Code', 'Previously_Insured', 'Vehicle_Age', 'Vehicle_Damage', 'Annual_Premium', 'Policy_Sales_Channel', 'Vintage']\n",
            "Region_Code\n",
            "['Gender', 'Age', 'Driving_License', 'Previously_Insured', 'Vehicle_Age', 'Vehicle_Damage', 'Annual_Premium', 'Policy_Sales_Channel', 'Vintage']\n",
            "Previously_Insured\n",
            "['Gender', 'Age', 'Driving_License', 'Region_Code', 'Vehicle_Age', 'Vehicle_Damage', 'Annual_Premium', 'Policy_Sales_Channel', 'Vintage']\n",
            "Vehicle_Age\n",
            "['Gender', 'Age', 'Driving_License', 'Region_Code', 'Previously_Insured', 'Vehicle_Damage', 'Annual_Premium', 'Policy_Sales_Channel', 'Vintage']\n",
            "Vehicle_Damage\n",
            "['Gender', 'Age', 'Driving_License', 'Region_Code', 'Previously_Insured', 'Vehicle_Age', 'Annual_Premium', 'Policy_Sales_Channel', 'Vintage']\n",
            "Annual_Premium\n",
            "['Gender', 'Age', 'Driving_License', 'Region_Code', 'Previously_Insured', 'Vehicle_Age', 'Vehicle_Damage', 'Policy_Sales_Channel', 'Vintage']\n",
            "Policy_Sales_Channel\n",
            "['Gender', 'Age', 'Driving_License', 'Region_Code', 'Previously_Insured', 'Vehicle_Age', 'Vehicle_Damage', 'Annual_Premium', 'Vintage']\n",
            "Vintage\n",
            "['Gender', 'Age', 'Driving_License', 'Region_Code', 'Previously_Insured', 'Vehicle_Age', 'Vehicle_Damage', 'Annual_Premium', 'Policy_Sales_Channel']\n",
            "0.8111398749045515 Vehicle_Damage\n",
            "\n",
            "\n",
            "Gender\n",
            "['Age', 'Driving_License', 'Region_Code', 'Previously_Insured', 'Vehicle_Age', 'Annual_Premium', 'Policy_Sales_Channel', 'Vintage']\n",
            "Age\n",
            "['Gender', 'Driving_License', 'Region_Code', 'Previously_Insured', 'Vehicle_Age', 'Annual_Premium', 'Policy_Sales_Channel', 'Vintage']\n",
            "Driving_License\n",
            "['Gender', 'Age', 'Region_Code', 'Previously_Insured', 'Vehicle_Age', 'Annual_Premium', 'Policy_Sales_Channel', 'Vintage']\n",
            "Region_Code\n",
            "['Gender', 'Age', 'Driving_License', 'Previously_Insured', 'Vehicle_Age', 'Annual_Premium', 'Policy_Sales_Channel', 'Vintage']\n",
            "Previously_Insured\n",
            "['Gender', 'Age', 'Driving_License', 'Region_Code', 'Vehicle_Age', 'Annual_Premium', 'Policy_Sales_Channel', 'Vintage']\n",
            "Vehicle_Age\n",
            "['Gender', 'Age', 'Driving_License', 'Region_Code', 'Previously_Insured', 'Annual_Premium', 'Policy_Sales_Channel', 'Vintage']\n",
            "Annual_Premium\n",
            "['Gender', 'Age', 'Driving_License', 'Region_Code', 'Previously_Insured', 'Vehicle_Age', 'Policy_Sales_Channel', 'Vintage']\n",
            "Policy_Sales_Channel\n",
            "['Gender', 'Age', 'Driving_License', 'Region_Code', 'Previously_Insured', 'Vehicle_Age', 'Annual_Premium', 'Vintage']\n",
            "Vintage\n",
            "['Gender', 'Age', 'Driving_License', 'Region_Code', 'Previously_Insured', 'Vehicle_Age', 'Annual_Premium', 'Policy_Sales_Channel']\n",
            "0.8720640801493108 Vehicle_Age\n",
            "\n",
            "\n",
            "Gender\n",
            "['Age', 'Driving_License', 'Region_Code', 'Previously_Insured', 'Annual_Premium', 'Policy_Sales_Channel', 'Vintage']\n",
            "Age\n",
            "['Gender', 'Driving_License', 'Region_Code', 'Previously_Insured', 'Annual_Premium', 'Policy_Sales_Channel', 'Vintage']\n",
            "Driving_License\n",
            "['Gender', 'Age', 'Region_Code', 'Previously_Insured', 'Annual_Premium', 'Policy_Sales_Channel', 'Vintage']\n",
            "Region_Code\n",
            "['Gender', 'Age', 'Driving_License', 'Previously_Insured', 'Annual_Premium', 'Policy_Sales_Channel', 'Vintage']\n",
            "Previously_Insured\n",
            "['Gender', 'Age', 'Driving_License', 'Region_Code', 'Annual_Premium', 'Policy_Sales_Channel', 'Vintage']\n",
            "Annual_Premium\n",
            "['Gender', 'Age', 'Driving_License', 'Region_Code', 'Previously_Insured', 'Policy_Sales_Channel', 'Vintage']\n",
            "Policy_Sales_Channel\n",
            "['Gender', 'Age', 'Driving_License', 'Region_Code', 'Previously_Insured', 'Annual_Premium', 'Vintage']\n",
            "Vintage\n",
            "['Gender', 'Age', 'Driving_License', 'Region_Code', 'Previously_Insured', 'Annual_Premium', 'Policy_Sales_Channel']\n",
            "0.8771380892833134 Annual_Premium\n",
            "\n",
            "\n",
            "Gender\n",
            "['Age', 'Driving_License', 'Region_Code', 'Previously_Insured', 'Policy_Sales_Channel', 'Vintage']\n",
            "Age\n",
            "['Gender', 'Driving_License', 'Region_Code', 'Previously_Insured', 'Policy_Sales_Channel', 'Vintage']\n",
            "Driving_License\n",
            "['Gender', 'Age', 'Region_Code', 'Previously_Insured', 'Policy_Sales_Channel', 'Vintage']\n",
            "Region_Code\n",
            "['Gender', 'Age', 'Driving_License', 'Previously_Insured', 'Policy_Sales_Channel', 'Vintage']\n",
            "Previously_Insured\n",
            "['Gender', 'Age', 'Driving_License', 'Region_Code', 'Policy_Sales_Channel', 'Vintage']\n",
            "Policy_Sales_Channel\n",
            "['Gender', 'Age', 'Driving_License', 'Region_Code', 'Previously_Insured', 'Vintage']\n",
            "Vintage\n",
            "['Gender', 'Age', 'Driving_License', 'Region_Code', 'Previously_Insured', 'Policy_Sales_Channel']\n",
            "0.8771380892833134 Gender\n",
            "\n",
            "\n"
          ],
          "name": "stdout"
        }
      ]
    },
    {
      "cell_type": "code",
      "metadata": {
        "id": "Ope90Gzb2lzW"
      },
      "source": [
        "############# ASSIGNMENT SOLUTIONS #####################################\n",
        "####### 3b) Run cell : Disclaimer: It takes around 45 minutes to run as it uses 5 Fold CV\n",
        "\n",
        "selected_features = backward_feature_selection(X_train, features_list,feature_type, acc)\n",
        "\n",
        "## Selected features contains the Final set of features selected\n"
      ],
      "execution_count": null,
      "outputs": []
    },
    {
      "cell_type": "code",
      "metadata": {
        "id": "bOzqGmSRfRoI",
        "outputId": "b5a5b976-3020-48f5-a4fa-87597bcfe667",
        "colab": {
          "base_uri": "https://localhost:8080/"
        }
      },
      "source": [
        " ########################### ASSIGNMENT SOLUTIONS ############################\n",
        " ## 3c) Run cell\n",
        "\n",
        " print(\"The selected_features are: \\n\")\n",
        " print(selected_features)\n",
        "\n",
        " ## Note there are 7 selected features out of 10\n"
      ],
      "execution_count": 64,
      "outputs": [
        {
          "output_type": "stream",
          "text": [
            "The selected_features are: \n",
            "\n",
            "['Gender', 'Age', 'Driving_License', 'Region_Code', 'Previously_Insured', 'Policy_Sales_Channel', 'Vintage']\n"
          ],
          "name": "stdout"
        }
      ]
    },
    {
      "cell_type": "code",
      "metadata": {
        "id": "hbK2sP4V1hwc"
      },
      "source": [
        " \"\"\"\n",
        "selected_features = ['Gender',\n",
        " 'Age',\n",
        " 'Driving_License',\n",
        " 'Region_Code',\n",
        " 'Previously_Insured',\n",
        " 'Policy_Sales_Channel',\n",
        " 'Vintage']\n",
        "\"\"\""
      ],
      "execution_count": null,
      "outputs": []
    },
    {
      "cell_type": "code",
      "metadata": {
        "id": "KbAKaJGYfRoO",
        "outputId": "6b2c23ed-10b2-4cb7-bb56-af9aea9226c9",
        "colab": {
          "base_uri": "https://localhost:8080/"
        }
      },
      "source": [
        "######################### ASSIGNMENT SOLUTIONS ########################################\n",
        "### 3d) run cell\n",
        "### Prints 5 Fold Cross validation accuracy and test accuracy\n",
        "\n",
        "acc = Kfold_crossvalidation(new_train, selected_features, feature_type,2)\n",
        "\n",
        "print(\"The 5Fold CV accuracy with selected features is : \", np.mean(acc))\n",
        "print('\\n')\n",
        "print(\" The Test Accuracy with selected features is: \", measure_test_accuracy(new_train, X_test, selected_features, feature_type,2))\n"
      ],
      "execution_count": 66,
      "outputs": [
        {
          "output_type": "stream",
          "text": [
            "/usr/local/lib/python3.6/dist-packages/sklearn/model_selection/_split.py:296: FutureWarning: Setting a random_state has no effect since shuffle is False. This will raise an error in 0.24. You should leave random_state to its default (None), or set shuffle=True.\n",
            "  FutureWarning\n"
          ],
          "name": "stderr"
        },
        {
          "output_type": "stream",
          "text": [
            "The 5Fold CV accuracy with selected features is :  0.8771352663342954\n",
            "\n",
            "\n",
            " The Test Accuracy with selected features is:  0.8786308414893338\n"
          ],
          "name": "stdout"
        }
      ]
    },
    {
      "cell_type": "code",
      "metadata": {
        "id": "q2FjOLsh09Jw"
      },
      "source": [
        ""
      ],
      "execution_count": null,
      "outputs": []
    },
    {
      "cell_type": "code",
      "metadata": {
        "id": "SF8Ys0i009TD"
      },
      "source": [
        ""
      ],
      "execution_count": null,
      "outputs": []
    },
    {
      "cell_type": "markdown",
      "metadata": {
        "id": "vPqF0bQz1-PS"
      },
      "source": [
        "############### ASSIGNMENT PART 2 ###################"
      ]
    },
    {
      "cell_type": "code",
      "metadata": {
        "id": "lYe3m8UgfRoh"
      },
      "source": [
        "###### Principal Component Analysis"
      ],
      "execution_count": null,
      "outputs": []
    },
    {
      "cell_type": "code",
      "metadata": {
        "id": "GpdREjtbfRoq"
      },
      "source": [
        "### Here we chose 6 components to retain approximately 95 % variance\n",
        "## We fit PCA on train, but we dont fit on test, we only transform the test\n",
        "## using already fit PCA\n",
        "\n",
        "## Run all cells below\n",
        "\n",
        "pca = PCA(n_components=6 )\n",
        "principal_components = pca.fit_transform(df_train.drop(\"Response\", axis = 1).values)"
      ],
      "execution_count": 45,
      "outputs": []
    },
    {
      "cell_type": "code",
      "metadata": {
        "id": "jocz1E-wfRow"
      },
      "source": [
        "### We are making a PCA feature based training dataframe\n",
        "\n",
        "principal_df_train = pd.DataFrame(data = principal_components, columns=[\"PC1\", \"PC2\", \"PC3\", \"PC4\", \"PC5\", \"PC6\"])\n",
        "principal_df_train = pd.concat([principal_df_train, df_train[['Response']]], axis = 1)"
      ],
      "execution_count": 46,
      "outputs": []
    },
    {
      "cell_type": "code",
      "metadata": {
        "id": "dCnRW0fZfRo2"
      },
      "source": [
        "### We are making a PCA feature based testing dataframe\n",
        "## Note the data is only transformed, not fit\n",
        "\n",
        "principal_components = pca.transform(df_test.drop(\"Response\", axis = 1).values)\n",
        "principal_df_test = pd.DataFrame(data = principal_components, columns=[\"PC1\", \"PC2\", \"PC3\", \"PC4\", \"PC5\", \"PC6\"])\n",
        "principal_df_test = pd.concat([principal_df_test, df_test[['Response']]], axis = 1)"
      ],
      "execution_count": 47,
      "outputs": []
    },
    {
      "cell_type": "code",
      "metadata": {
        "id": "VyUTm5dBfRpA"
      },
      "source": [
        "### Here we are converting the dataframe into a list of dictionaries\n",
        "## We have to use this form as the Naive Bayes Classifier is built to process data of this form\n",
        "\n",
        "dic = (principal_df_train).T.to_dict().values()\n",
        "principal_X_train = []\n",
        "for example in dic:\n",
        "    principal_X_train.append(example)\n",
        "\n",
        "dic = (principal_df_test).T.to_dict().values()\n",
        "principal_X_test= []\n",
        "for example in dic:\n",
        "    principal_X_test.append(example)"
      ],
      "execution_count": 50,
      "outputs": []
    },
    {
      "cell_type": "code",
      "metadata": {
        "id": "LvAMH2AUfRpH"
      },
      "source": [
        "#### We are building the feature list and the feature type dictionary as before\n",
        "## This is essential as it has to be passed into the NB function\n",
        "## Note: All the features have been considered as discrete\n",
        "\n",
        "principal_feature_list = [\"PC1\", \"PC2\", \"PC3\", \"PC4\", \"PC5\", \"PC6\"]\n",
        "\n",
        "principal_feature_type = {}\n",
        "principal_feature_type[\"PC1\"] = 0\n",
        "principal_feature_type[\"PC2\"] = 0\n",
        "principal_feature_type[\"PC3\"] = 0\n",
        "principal_feature_type[\"PC4\"] = 0\n",
        "principal_feature_type[\"PC5\"] = 0\n",
        "principal_feature_type[\"PC6\"] = 0"
      ],
      "execution_count": 51,
      "outputs": []
    },
    {
      "cell_type": "markdown",
      "metadata": {
        "id": "B7Ltbr6Lv80K"
      },
      "source": [
        "PCA Visualisation"
      ]
    },
    {
      "cell_type": "code",
      "metadata": {
        "id": "ED9ve7jAwAbX"
      },
      "source": [
        "########### ASSIGNMENT SOLUTION ###############################\n",
        "### 2a) Run all the cells below"
      ],
      "execution_count": null,
      "outputs": []
    },
    {
      "cell_type": "code",
      "metadata": {
        "id": "5nUs7upifRpe"
      },
      "source": [
        "variances = pca.explained_variance_ratio_ ## The y axis of plots "
      ],
      "execution_count": 53,
      "outputs": []
    },
    {
      "cell_type": "code",
      "metadata": {
        "scrolled": true,
        "id": "XTd93FVefRpf",
        "outputId": "8fc77a59-6a02-4856-8b5f-1a3481fbe9cf",
        "colab": {
          "base_uri": "https://localhost:8080/",
          "height": 549
        }
      },
      "source": [
        "plt.figure(figsize = (10,8))\n",
        "sns.barplot(x = [\"PC1\", \"PC2\", \"PC3\", \"PC4\", \"PC5\", \"PC6\"], y = variances, color = 'b')\n",
        "plt.xlabel(\"The Principal Components\", fontsize = 20)\n",
        "plt.ylabel(\" % Variance accounted\",  fontsize = 20)\n",
        "plt.title(\" The % Variance contributed by First 6 PCs\", fontsize = 25)"
      ],
      "execution_count": 54,
      "outputs": [
        {
          "output_type": "execute_result",
          "data": {
            "text/plain": [
              "Text(0.5, 1.0, ' The % Variance contributed by First 6 PCs')"
            ]
          },
          "metadata": {
            "tags": []
          },
          "execution_count": 54
        },
        {
          "output_type": "display_data",
          "data": {
            "image/png": "[encoded data removed]",
            "text/plain": [
              "<Figure size 720x576 with 1 Axes>"
            ]
          },
          "metadata": {
            "tags": [],
            "needs_background": "light"
          }
        }
      ]
    },
    {
      "cell_type": "code",
      "metadata": {
        "id": "rFs5vukIfRpZ",
        "outputId": "6b1aae47-fb44-4a36-b015-dc88358c5ce7",
        "colab": {
          "base_uri": "https://localhost:8080/",
          "height": 610
        }
      },
      "source": [
        "fig = plt.figure(figsize = (12,10))\n",
        "ax = fig.add_subplot(1,1,1,  projection='3d')\n",
        "\n",
        "ax.set_xlabel('Principal Component 1', fontsize = 15)\n",
        "ax.set_ylabel('Principal Component 2', fontsize = 15)\n",
        "ax.set_zlabel('Principal Component 3', fontsize = 15)\n",
        "ax.set_title('3 component PCA', fontsize = 20)\n",
        "\n",
        "targets = [1,0]\n",
        "colors = ['b', 'g']\n",
        "for target, color in zip(targets,colors):\n",
        "    \n",
        "    index_keep = principal_df_train['Response'] == target\n",
        "    print((index_keep).sum())\n",
        "    \n",
        "    ax.scatter3D(principal_df_train.loc[index_keep, 'PC1'], principal_df_train.loc[index_keep, 'PC2'], \n",
        "                principal_df_train.loc[index_keep, 'PC3'],\n",
        "              c = color, s= 50)\n",
        "    \n",
        "ax.legend(targets)\n",
        "ax.grid()"
      ],
      "execution_count": 55,
      "outputs": [
        {
          "output_type": "stream",
          "text": [
            "37459\n",
            "267428\n"
          ],
          "name": "stdout"
        },
        {
          "output_type": "display_data",
          "data": {
            "image/png": "[encoded data removed]",
            "text/plain": [
              "<Figure size 864x720 with 1 Axes>"
            ]
          },
          "metadata": {
            "tags": [],
            "needs_background": "light"
          }
        }
      ]
    },
    {
      "cell_type": "code",
      "metadata": {
        "id": "A1lToq6CfRpb",
        "outputId": "170c3b9b-af1a-4717-ca1e-801d78d871fd",
        "colab": {
          "base_uri": "https://localhost:8080/",
          "height": 667
        }
      },
      "source": [
        "fig = plt.figure(figsize = (12,10))\n",
        "ax = fig.add_subplot(1,1,1)\n",
        "ax.set_xlabel('Principal Component 1', fontsize = 15)\n",
        "ax.set_ylabel('Principal Component 2', fontsize = 15)\n",
        "ax.set_title(' First 2 Principal component subspace', fontsize = 20)\n",
        "\n",
        "targets = [1,0]\n",
        "colors = ['b', 'g']\n",
        "for target, color in zip(targets,colors):\n",
        "    \n",
        "    index_keep = principal_df_test['Response'] == target\n",
        "    print((index_keep).sum())\n",
        "    \n",
        "    ax.scatter(principal_df_test.loc[index_keep, 'PC1'], principal_df_test.loc[index_keep, 'PC2'] ,\n",
        "              c = color, s= 50)\n",
        "    \n",
        "ax.legend(targets)\n",
        "ax.grid()"
      ],
      "execution_count": 56,
      "outputs": [
        {
          "output_type": "stream",
          "text": [
            "9251\n",
            "66971\n"
          ],
          "name": "stdout"
        },
        {
          "output_type": "display_data",
          "data": {
            "image/png": "[encoded data removed]",
            "text/plain": [
              "<Figure size 864x720 with 1 Axes>"
            ]
          },
          "metadata": {
            "tags": [],
            "needs_background": "light"
          }
        }
      ]
    },
    {
      "cell_type": "code",
      "metadata": {
        "id": "tvVUo7vRwIpm",
        "outputId": "3596e31c-e80f-454d-9971-580edc52a686",
        "colab": {
          "base_uri": "https://localhost:8080/"
        }
      },
      "source": [
        "################# ASSIGNMENT SOLUTIONS ##################################\n",
        "###### 2b) Run the cell\n",
        "\n",
        "acc = Kfold_crossvalidation(principal_X_train, principal_feature_list, principal_feature_type, 2)\n",
        "print(\"The KFold Accuracy with PCA features: \", np.mean(acc))\n",
        "print('\\n')\n",
        "print(\"The Test Accuracy with PCA features: \", measure_test_accuracy(principal_X_train, \n",
        "                                                                     principal_X_test, \n",
        "                                                                     principal_feature_list,principal_feature_type,2))\n"
      ],
      "execution_count": 52,
      "outputs": [
        {
          "output_type": "stream",
          "text": [
            "/usr/local/lib/python3.6/dist-packages/sklearn/model_selection/_split.py:296: FutureWarning: Setting a random_state has no effect since shuffle is False. This will raise an error in 0.24. You should leave random_state to its default (None), or set shuffle=True.\n",
            "  FutureWarning\n"
          ],
          "name": "stderr"
        },
        {
          "output_type": "stream",
          "text": [
            "The KFold Accuracy with PCA features:  0.8518303494983112\n",
            "\n",
            "\n",
            "The Test Accuracy with PCA features:  0.8535855789667025\n"
          ],
          "name": "stdout"
        }
      ]
    },
    {
      "cell_type": "code",
      "metadata": {
        "id": "2HllYp3LfRpV"
      },
      "source": [
        ""
      ],
      "execution_count": null,
      "outputs": []
    },
    {
      "cell_type": "code",
      "metadata": {
        "id": "41O6WYtCfRph"
      },
      "source": [
        ""
      ],
      "execution_count": null,
      "outputs": []
    }
  ]
}